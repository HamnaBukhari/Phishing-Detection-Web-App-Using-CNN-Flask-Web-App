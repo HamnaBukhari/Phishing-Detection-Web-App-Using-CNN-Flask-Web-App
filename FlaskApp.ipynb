{
 "cells": [
  {
   "cell_type": "code",
   "execution_count": 1,
   "id": "9c7a3626",
   "metadata": {},
   "outputs": [],
   "source": [
    "import pickle\n",
    "import numpy as np\n",
    "from tensorflow.keras.preprocessing.sequence import pad_sequences\n",
    "import tensorflow as tf\n",
    "\n",
    "# Load the model, tokenizer, and label encoder\n",
    "model = tf.keras.models.load_model(\"model.h5\")\n",
    "\n",
    "with open(\"tokenizer.pkl\", \"rb\") as f:\n",
    "    tokenizer = pickle.load(f)\n",
    "\n",
    "with open(\"label_encoder.pkl\", \"rb\") as f:\n",
    "    label_encoder = pickle.load(f)\n"
   ]
  },
  {
   "cell_type": "code",
   "execution_count": 2,
   "id": "5bf18338",
   "metadata": {},
   "outputs": [],
   "source": [
    "def predict_url(url):\n",
    "    max_length = 150\n",
    "    # Preprocess the input URL\n",
    "    sequence = tokenizer.texts_to_sequences([url])\n",
    "    padded_sequence = pad_sequences(sequence, maxlen=max_length)\n",
    "\n",
    "    # Make the prediction using the trained model\n",
    "    prediction_proba = model.predict(padded_sequence)[0][0]\n",
    "\n",
    "    # Convert the prediction to a label\n",
    "    label = \"phishing\" if prediction_proba > 0.5 else \"legitimate\"\n",
    "\n",
    "    # Calculate the percentage of prediction\n",
    "    prediction_percentage = prediction_proba * 100 if label == \"phishing\" else (1 - prediction_proba) * 100\n",
    "\n",
    "    return label, prediction_percentage"
   ]
  },
  {
   "cell_type": "code",
   "execution_count": 12,
   "id": "ba9ce14f",
   "metadata": {},
   "outputs": [
    {
     "name": "stdout",
     "output_type": "stream",
     "text": [
      "1/1 [==============================] - 0s 32ms/step\n",
      "The URL 'https://www.amazon.com' is classified as legitimate with a 99.97% confidence.\n"
     ]
    }
   ],
   "source": [
    "    \n",
    "# Test the function with a URL\n",
    "input_url = \"https://www.amazon.com\"\n",
    "#input_url = \"http://2.bad-phishing-site.com\"  # Replace with the URL you want to test\n",
    "result, prediction_percentage = predict_url(input_url)\n",
    "print(f\"The URL '{input_url}' is classified as {result} with a {prediction_percentage:.2f}% confidence.\")"
   ]
  },
  {
   "cell_type": "code",
   "execution_count": null,
   "id": "288e6016",
   "metadata": {},
   "outputs": [],
   "source": []
  }
 ],
 "metadata": {
  "kernelspec": {
   "display_name": "Python 3 (ipykernel)",
   "language": "python",
   "name": "python3"
  },
  "language_info": {
   "codemirror_mode": {
    "name": "ipython",
    "version": 3
   },
   "file_extension": ".py",
   "mimetype": "text/x-python",
   "name": "python",
   "nbconvert_exporter": "python",
   "pygments_lexer": "ipython3",
   "version": "3.9.13"
  }
 },
 "nbformat": 4,
 "nbformat_minor": 5
}
